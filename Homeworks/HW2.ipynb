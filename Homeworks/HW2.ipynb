{
 "cells": [
  {
   "cell_type": "code",
   "execution_count": 3,
   "metadata": {},
   "outputs": [
    {
     "name": "stdout",
     "output_type": "stream",
     "text": [
      "[0, 1, 2, 3, 4, 5, 6, 7, 8, 9, 10, 11, 12, 13, 14, 15, 16, 17, 18, 19]\n",
      "[19, 18, 17, 16, 15, 14, 13, 12, 11, 10, 9, 8, 7, 6, 5, 4, 3, 2, 1, 0]\n"
     ]
    }
   ],
   "source": [
    "# 05-09/04/2021\n",
    "# TAYFUN\n",
    "# ÇINARLI\n",
    "# tayfuncinarli@gmail.com\n",
    "# Homework_2\n",
    "# 1-\n",
    "\n",
    "liste=[i for i in range(20)]\n",
    "print(liste)\n",
    "for i in range(10):\n",
    "    tutucu=liste[i]\n",
    "    liste[i]=liste[i+10]\n",
    "    liste[-(i+1)]=tutucu\n",
    "print(liste)"
   ]
  },
  {
   "cell_type": "code",
   "execution_count": 5,
   "metadata": {},
   "outputs": [
    {
     "name": "stdout",
     "output_type": "stream",
     "text": [
      "Rakam Giriniz(0-9): 8\n",
      "0\n",
      "2\n",
      "4\n",
      "6\n",
      "8\n"
     ]
    }
   ],
   "source": [
    "# Homework_2\n",
    "# 2-\n",
    "\n",
    "n=int(input(\"Rakam Giriniz(0-9): \"))\n",
    "for i in range (n+1):\n",
    "    if (i%2==0):\n",
    "        print(i)"
   ]
  }
 ],
 "metadata": {
  "kernelspec": {
   "display_name": "Python 3",
   "language": "python",
   "name": "python3"
  },
  "language_info": {
   "codemirror_mode": {
    "name": "ipython",
    "version": 3
   },
   "file_extension": ".py",
   "mimetype": "text/x-python",
   "name": "python",
   "nbconvert_exporter": "python",
   "pygments_lexer": "ipython3",
   "version": "3.8.3"
  }
 },
 "nbformat": 4,
 "nbformat_minor": 4
}
