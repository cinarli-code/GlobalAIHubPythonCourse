{
 "cells": [
  {
   "cell_type": "code",
   "execution_count": 3,
   "metadata": {},
   "outputs": [
    {
     "name": "stdout",
     "output_type": "stream",
     "text": [
      "Kullanıcı Adınızı Giriniz: Tayfun\n",
      "Şifrenizi Giriniz: 1234\n",
      "Giriş Başarılı!\n"
     ]
    }
   ],
   "source": [
    "# 05-09/04/2021\n",
    "# TAYFUN\n",
    "# ÇINARLI\n",
    "# tayfuncinarli@gmail.com\n",
    "# Homework_3\n",
    "# 1-\n",
    "\n",
    "u_name=\"Tayfun\"\n",
    "p_word=\"1234\"\n",
    "user_name=input(\"Kullanıcı Adınızı Giriniz: \")\n",
    "password=input(\"Şifrenizi Giriniz: \")\n",
    "if (user_name==u_name):\n",
    "    if (password==p_word):\n",
    "        print(\"Giriş Başarılı!\")\n",
    "    else:\n",
    "        print(\"Şifre Hatalı\")\n",
    "else:\n",
    "    print(\"Kullanıcı Adı Hatalı\")"
   ]
  },
  {
   "cell_type": "code",
   "execution_count": 8,
   "metadata": {},
   "outputs": [
    {
     "name": "stdout",
     "output_type": "stream",
     "text": [
      "Kullanıcı Adınızı Giriniz: Tayfun\n",
      "Şifrenizi Giriniz: 1234\n",
      "Giriş Başarılı!\n"
     ]
    }
   ],
   "source": [
    "# Homework_3\n",
    "# Extra-\n",
    "program={\"user1\":\"Tayfun\",\"pwd1\":\"1234\"}\n",
    "user_info={}\n",
    "user_info[\"user1\"]=input(\"Kullanıcı Adınızı Giriniz: \")\n",
    "user_info[\"pwd1\"]=input(\"Şifrenizi Giriniz: \")\n",
    "if (user_info[\"user1\"]==program[\"user1\"]):\n",
    "    if (user_info[\"pwd1\"]==program[\"pwd1\"]):\n",
    "        print(\"Giriş Başarılı!\")\n",
    "    else:\n",
    "        print(\"Şifre Hatalı\")\n",
    "else:\n",
    "    print(\"Kullanıcı Adı Hatalı\")\n"
   ]
  }
 ],
 "metadata": {
  "kernelspec": {
   "display_name": "Python 3",
   "language": "python",
   "name": "python3"
  },
  "language_info": {
   "codemirror_mode": {
    "name": "ipython",
    "version": 3
   },
   "file_extension": ".py",
   "mimetype": "text/x-python",
   "name": "python",
   "nbconvert_exporter": "python",
   "pygments_lexer": "ipython3",
   "version": "3.8.3"
  }
 },
 "nbformat": 4,
 "nbformat_minor": 4
}
