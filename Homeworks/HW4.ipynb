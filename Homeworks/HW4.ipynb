{
 "cells": [
  {
   "cell_type": "code",
   "execution_count": 18,
   "metadata": {},
   "outputs": [
    {
     "name": "stdout",
     "output_type": "stream",
     "text": [
      "Adınızı Giriniz: Tayfun\n",
      "Vize Notunuzu Giriniz: 45\n",
      "Proje Notunuzu Giriniz: 55\n",
      "Final Notunuzu Giriniz: 65\n",
      "Adınızı Giriniz: Deniz\n",
      "Vize Notunuzu Giriniz: 85\n",
      "Proje Notunuzu Giriniz: 50\n",
      "Final Notunuzu Giriniz: 95\n",
      "Adınızı Giriniz: Burak\n",
      "Vize Notunuzu Giriniz: 50\n",
      "Proje Notunuzu Giriniz: 60\n",
      "Final Notunuzu Giriniz: 70\n",
      "Adınızı Giriniz: Ayşe\n",
      "Vize Notunuzu Giriniz: 90\n",
      "Proje Notunuzu Giriniz: 95\n",
      "Final Notunuzu Giriniz: 100\n",
      "Adınızı Giriniz: Aylin\n",
      "Vize Notunuzu Giriniz: 80\n",
      "Proje Notunuzu Giriniz: 60\n",
      "Final Notunuzu Giriniz: 90\n",
      "\n",
      "---ÖĞRENCİ DÖNEM SONU PUAN BİLGİLERİ---\n",
      "{1: ['Tayfun', 56.0], 2: ['Deniz', 78.5], 3: ['Burak', 61.0], 4: ['Ayşe', 95.5], 5: ['Aylin', 78.0]}\n",
      "\n",
      "---ÖĞRENCİ DERECE SIRALAMALARI (MAX-MIN)---\n",
      "[95.5, 78.5, 78.0, 61.0, 56.0]\n"
     ]
    }
   ],
   "source": [
    "# 05-09/04/2021\n",
    "# TAYFUN\n",
    "# ÇINARLI\n",
    "# tayfuncinarli@gmail.com\n",
    "# Homework_4\n",
    "student=[]\n",
    "vize=[]\n",
    "proje=[]\n",
    "final=[]\n",
    "gecme_notu=[]\n",
    "dereceler=[]\n",
    "sozluk={}\n",
    "for i in range(5):\n",
    "    student.append(input(\"Adınızı Giriniz: \"))\n",
    "    vize.append(int(input(\"Vize Notunuzu Giriniz: \")))\n",
    "    proje.append(int(input(\"Proje Notunuzu Giriniz: \")))\n",
    "    final.append(int(input(\"Final Notunuzu Giriniz: \")))\n",
    "    gecme_notu.append(vize[i]*0.3+proje[i]*0.3+final[i]*0.4)\n",
    "    sozluk[i+1]=[student[i],gecme_notu[i]]\n",
    "    dereceler.append(sozluk[i+1][1])\n",
    "gecme_notu.sort()\n",
    "gecme_notu.reverse()\n",
    "dereceler=gecme_notu\n",
    "print(\"\\n---ÖĞRENCİ DÖNEM SONU PUAN BİLGİLERİ---\")\n",
    "print(sozluk)\n",
    "print(\"\\n---ÖĞRENCİ DERECE SIRALAMALARI (MAX-MIN)---\")\n",
    "print(dereceler)\n",
    "    "
   ]
  }
 ],
 "metadata": {
  "kernelspec": {
   "display_name": "Python 3",
   "language": "python",
   "name": "python3"
  },
  "language_info": {
   "codemirror_mode": {
    "name": "ipython",
    "version": 3
   },
   "file_extension": ".py",
   "mimetype": "text/x-python",
   "name": "python",
   "nbconvert_exporter": "python",
   "pygments_lexer": "ipython3",
   "version": "3.8.3"
  }
 },
 "nbformat": 4,
 "nbformat_minor": 4
}
